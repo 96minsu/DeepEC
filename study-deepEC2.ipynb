{
 "cells": [
  {
   "cell_type": "code",
   "execution_count": 14,
   "metadata": {},
   "outputs": [],
   "source": [
    "import pandas as pd\n",
    "import numpy as np\n",
    "\n",
    "import torch \n",
    "import torch.nn as nn\n",
    "import torch.nn.functional as F\n",
    "import torch.optim as optim\n",
    "from torchvision import datasets, transforms\n",
    "from sklearn.model_selection import train_test_split"
   ]
  },
  {
   "cell_type": "code",
   "execution_count": 15,
   "metadata": {
    "scrolled": true
   },
   "outputs": [
    {
     "name": "stdout",
     "output_type": "stream",
     "text": [
      "<class 'pandas.core.frame.DataFrame'>\n"
     ]
    }
   ],
   "source": [
    "protein_data = pd.read_csv('./total_e+xias.csv')\n",
    "print(type(protein_data))"
   ]
  },
  {
   "cell_type": "code",
   "execution_count": 16,
   "metadata": {},
   "outputs": [],
   "source": [
    "# 데이터셋 레이블 과 기능 으로 나누기\n",
    "y = protein_data.SC\n",
    "X = protein_data.drop ( 'xias', axis = 1)"
   ]
  },
  {
   "cell_type": "code",
   "execution_count": 17,
   "metadata": {},
   "outputs": [
    {
     "name": "stdout",
     "output_type": "stream",
     "text": [
      "\n",
      "X_train:\n",
      "\n",
      "                                                     SEQ  SC\n",
      "21869  MSGQRVDVKVVMLGKEYVGKTSLVERYVHDRFLVGPYQNTIGAAFV...   0\n",
      "12323  MTRNEYIKSFNSVIDDKAIPMFGQNSVLSIINQWLNSVDASIVSST...   0\n",
      "22924  MGLFMIIAILLFQKPTVTEQLKKCWNNYVQGHCRKICRVNEVPEAL...   0\n",
      "3544   MRVKIVSKPTSQLNNIIEKIKNISTKLGFEVVDKDFDYVIAVGGDG...   1\n",
      "19379  MKAYAKKRISYMPSSPSQNVINFEEIETQKENILPLKEGRSAAALS...   0\n",
      "(23153, 2)\n",
      "\n",
      "X_test:\n",
      "\n",
      "                                                     SEQ  SC\n",
      "24600  MGLFEKYVSNLNRLLILTMVFAVICAGSTLALGVKKGIDLKGGTMV...   0\n",
      "20198  MPSSLTKTESNSDPRTNIQQVPKALDKNVTNSGNLDSTSSSTGSIT...   0\n",
      "10074  MPKFVVVTGGVMSGLGKGVVAASVGRILRARGLSVTAVKIDPYLNV...   1\n",
      "9485   MIMFQKPKGTRDFLPEEMKKRKVIEKKLRKVFDSYNFSEINTPTFE...   1\n",
      "1259   MSEKKRLHLIIADAELETVPEQILDHPAIVNYAKRRKRKPEKIILD...   1\n",
      "(9923, 2)\n"
     ]
    }
   ],
   "source": [
    "# 데이터셋  분할 \n",
    "X_train, X_test, y_train, y_test = train_test_split(X, y,test_size=0.3)\n",
    "print(\"\\nX_train:\\n\")\n",
    "print(X_train.head())\n",
    "print(X_train.shape)\n",
    "\n",
    "print(\"\\nX_test:\\n\")\n",
    "print(X_test.head())\n",
    "print(X_test.shape)"
   ]
  },
  {
   "cell_type": "code",
   "execution_count": 39,
   "metadata": {},
   "outputs": [
    {
     "name": "stdout",
     "output_type": "stream",
     "text": [
      "\n",
      "X_train:\n",
      "\n",
      "21869    0\n",
      "12323    0\n",
      "22924    0\n",
      "3544     1\n",
      "19379    0\n",
      "Name: SC, dtype: int64\n",
      "(23153,)\n",
      "\n",
      "X_test:\n",
      "\n",
      "24600    0\n",
      "20198    0\n",
      "10074    1\n",
      "9485     1\n",
      "1259     1\n",
      "Name: SC, dtype: int64\n",
      "(9923,)\n"
     ]
    }
   ],
   "source": [
    "print(\"\\nX_train:\\n\")\n",
    "print(y_train.head())\n",
    "print(y_train.shape)\n",
    "\n",
    "print(\"\\nX_test:\\n\")\n",
    "print(y_test.head())\n",
    "print(y_test.shape)"
   ]
  },
  {
   "cell_type": "code",
   "execution_count": 18,
   "metadata": {},
   "outputs": [
    {
     "name": "stdout",
     "output_type": "stream",
     "text": [
      "<class 'numpy.ndarray'>\n"
     ]
    }
   ],
   "source": [
    "a =X_train.loc[:,['SEQ']].values # SEQ열에 해당하는 데이터를 모두 읽어옴 (위에서 아래로)\n",
    "print(type(a))"
   ]
  },
  {
   "cell_type": "code",
   "execution_count": 41,
   "metadata": {},
   "outputs": [
    {
     "name": "stdout",
     "output_type": "stream",
     "text": [
      "['MGLFEKYVSNLNRLLILTMVFAVICAGSTLALGVKKGIDLKGGTMVILKTEKDPDTVTSEASRILGVSDVEAIRSSQGDVIVQVPKYLSADDVNKLARAVGGEVESVQTIGPALGRVFWESVKVAVPLALVAVSIVVFAIFRKPLLSAAVLGALALDLVDALGLMALTGVPLTLASFAGLLMIIGYAVDSNILLSMYTVKRRRVRRVDRAIADSFKTGITMVATTTAAACALFLLSMSEAMFEIAAVVIFGLIADVLNTWIFNAWVIREKIAGR']\n"
     ]
    }
   ],
   "source": [
    "\n",
    "print(x_test_val[0])"
   ]
  },
  {
   "cell_type": "code",
   "execution_count": 19,
   "metadata": {},
   "outputs": [
    {
     "data": {
      "text/plain": [
       "array(['MSGQRVDVKVVMLGKEYVGKTSLVERYVHDRFLVGPYQNTIGAAFVAKVMSVGDRTVTLGIWDTAGSERYEAMSRIYYRGAKAAIVCYDLTDSSSFERAKFWVKELRSLEEGCQIYLCGTKSDLLEEDRRRRRVDFHDVQDYADNIKAQLFETSSKTGQSVDELFQKVAEDYVSVAAFQVMTEDKGVDLGQKPNPYFYSCCHH'],\n",
       "      dtype=object)"
      ]
     },
     "execution_count": 19,
     "metadata": {},
     "output_type": "execute_result"
    }
   ],
   "source": [
    "a[0]"
   ]
  },
  {
   "cell_type": "code",
   "execution_count": 20,
   "metadata": {},
   "outputs": [],
   "source": [
    "b = X_test.loc[:,['SEQ']].values"
   ]
  },
  {
   "cell_type": "code",
   "execution_count": 21,
   "metadata": {},
   "outputs": [
    {
     "data": {
      "text/plain": [
       "array(['MGLFEKYVSNLNRLLILTMVFAVICAGSTLALGVKKGIDLKGGTMVILKTEKDPDTVTSEASRILGVSDVEAIRSSQGDVIVQVPKYLSADDVNKLARAVGGEVESVQTIGPALGRVFWESVKVAVPLALVAVSIVVFAIFRKPLLSAAVLGALALDLVDALGLMALTGVPLTLASFAGLLMIIGYAVDSNILLSMYTVKRRRVRRVDRAIADSFKTGITMVATTTAAACALFLLSMSEAMFEIAAVVIFGLIADVLNTWIFNAWVIREKIAGR'],\n",
       "      dtype=object)"
      ]
     },
     "execution_count": 21,
     "metadata": {},
     "output_type": "execute_result"
    }
   ],
   "source": [
    "b[0]"
   ]
  },
  {
   "cell_type": "code",
   "execution_count": 22,
   "metadata": {},
   "outputs": [],
   "source": [
    "c = X_train.loc[:,['SC']].values\n"
   ]
  },
  {
   "cell_type": "code",
   "execution_count": null,
   "metadata": {},
   "outputs": [],
   "source": [
    "len(c)"
   ]
  },
  {
   "cell_type": "code",
   "execution_count": 23,
   "metadata": {},
   "outputs": [],
   "source": [
    "d = X_test.loc[:,['SC']].values"
   ]
  },
  {
   "cell_type": "code",
   "execution_count": 24,
   "metadata": {},
   "outputs": [
    {
     "name": "stdout",
     "output_type": "stream",
     "text": [
      "['M', 'S', 'G', 'Q', 'R', 'V', 'D', 'V', 'K', 'V', 'V', 'M', 'L', 'G', 'K', 'E', 'Y', 'V', 'G', 'K', 'T', 'S', 'L', 'V', 'E', 'R', 'Y', 'V', 'H', 'D', 'R', 'F', 'L', 'V', 'G', 'P', 'Y', 'Q', 'N', 'T', 'I', 'G', 'A', 'A', 'F', 'V', 'A', 'K', 'V', 'M', 'S', 'V', 'G', 'D', 'R', 'T', 'V', 'T', 'L', 'G', 'I', 'W', 'D', 'T', 'A', 'G', 'S', 'E', 'R', 'Y', 'E', 'A', 'M', 'S', 'R', 'I', 'Y', 'Y', 'R', 'G', 'A', 'K', 'A', 'A', 'I', 'V', 'C', 'Y', 'D', 'L', 'T', 'D', 'S', 'S', 'S', 'F', 'E', 'R', 'A', 'K', 'F', 'W', 'V', 'K', 'E', 'L', 'R', 'S', 'L', 'E', 'E', 'G', 'C', 'Q', 'I', 'Y', 'L', 'C', 'G', 'T', 'K', 'S', 'D', 'L', 'L', 'E', 'E', 'D', 'R', 'R', 'R', 'R', 'R', 'V', 'D', 'F', 'H', 'D', 'V', 'Q', 'D', 'Y', 'A', 'D', 'N', 'I', 'K', 'A', 'Q', 'L', 'F', 'E', 'T', 'S', 'S', 'K', 'T', 'G', 'Q', 'S', 'V', 'D', 'E', 'L', 'F', 'Q', 'K', 'V', 'A', 'E', 'D', 'Y', 'V', 'S', 'V', 'A', 'A', 'F', 'Q', 'V', 'M', 'T', 'E', 'D', 'K', 'G', 'V', 'D', 'L', 'G', 'Q', 'K', 'P', 'N', 'P', 'Y', 'F', 'Y', 'S', 'C', 'C', 'H', 'H']\n",
      "23153\n"
     ]
    }
   ],
   "source": [
    "def split_data(train): # dataset ->a (X_train)\n",
    "    list_test = []\n",
    "    for i in range(train.shape[0]): #  39999,2\n",
    "        presplit = train[i] # a의 0번째 의 SEQ부터 최대크기까지(30000) 넣고 \n",
    "        list_test.append(list(presplit[0])) #한글자씩 잘라서 리스트에 저장\n",
    "\n",
    "    return list_test #모든 SEQ를 한글자씩 잘라놓은것을 리턴\n",
    "\n",
    "train = split_data(a)\n",
    "\n",
    "print(train[0])\n",
    "print(len(train))"
   ]
  },
  {
   "cell_type": "code",
   "execution_count": null,
   "metadata": {},
   "outputs": [],
   "source": []
  },
  {
   "cell_type": "code",
   "execution_count": 25,
   "metadata": {},
   "outputs": [
    {
     "name": "stdout",
     "output_type": "stream",
     "text": [
      "['M', 'G', 'L', 'F', 'E', 'K', 'Y', 'V', 'S', 'N', 'L', 'N', 'R', 'L', 'L', 'I', 'L', 'T', 'M', 'V', 'F', 'A', 'V', 'I', 'C', 'A', 'G', 'S', 'T', 'L', 'A', 'L', 'G', 'V', 'K', 'K', 'G', 'I', 'D', 'L', 'K', 'G', 'G', 'T', 'M', 'V', 'I', 'L', 'K', 'T', 'E', 'K', 'D', 'P', 'D', 'T', 'V', 'T', 'S', 'E', 'A', 'S', 'R', 'I', 'L', 'G', 'V', 'S', 'D', 'V', 'E', 'A', 'I', 'R', 'S', 'S', 'Q', 'G', 'D', 'V', 'I', 'V', 'Q', 'V', 'P', 'K', 'Y', 'L', 'S', 'A', 'D', 'D', 'V', 'N', 'K', 'L', 'A', 'R', 'A', 'V', 'G', 'G', 'E', 'V', 'E', 'S', 'V', 'Q', 'T', 'I', 'G', 'P', 'A', 'L', 'G', 'R', 'V', 'F', 'W', 'E', 'S', 'V', 'K', 'V', 'A', 'V', 'P', 'L', 'A', 'L', 'V', 'A', 'V', 'S', 'I', 'V', 'V', 'F', 'A', 'I', 'F', 'R', 'K', 'P', 'L', 'L', 'S', 'A', 'A', 'V', 'L', 'G', 'A', 'L', 'A', 'L', 'D', 'L', 'V', 'D', 'A', 'L', 'G', 'L', 'M', 'A', 'L', 'T', 'G', 'V', 'P', 'L', 'T', 'L', 'A', 'S', 'F', 'A', 'G', 'L', 'L', 'M', 'I', 'I', 'G', 'Y', 'A', 'V', 'D', 'S', 'N', 'I', 'L', 'L', 'S', 'M', 'Y', 'T', 'V', 'K', 'R', 'R', 'R', 'V', 'R', 'R', 'V', 'D', 'R', 'A', 'I', 'A', 'D', 'S', 'F', 'K', 'T', 'G', 'I', 'T', 'M', 'V', 'A', 'T', 'T', 'T', 'A', 'A', 'A', 'C', 'A', 'L', 'F', 'L', 'L', 'S', 'M', 'S', 'E', 'A', 'M', 'F', 'E', 'I', 'A', 'A', 'V', 'V', 'I', 'F', 'G', 'L', 'I', 'A', 'D', 'V', 'L', 'N', 'T', 'W', 'I', 'F', 'N', 'A', 'W', 'V', 'I', 'R', 'E', 'K', 'I', 'A', 'G', 'R']\n",
      "9923\n"
     ]
    }
   ],
   "source": [
    "def split_data(test): # dataset ->(X_test)\n",
    "    list_test = []\n",
    "    for i in range(test.shape[0]): #  39999,2\n",
    "        presplit = test[i] # b의 0번째 의 SEQ부터 최대크기까지(30000) 넣고 \n",
    "        list_test.append(list(presplit[0])) #한글자씩 잘라서 리스트에 저장\n",
    "\n",
    "    return list_test #모든 SEQ를 한글자씩 잘라놓은것을 리턴\n",
    "\n",
    "test = split_data(b)\n",
    "print(test[0])\n",
    "print(len(test))"
   ]
  },
  {
   "cell_type": "code",
   "execution_count": 26,
   "metadata": {},
   "outputs": [],
   "source": [
    "def one_hot_encoding(split_data): # 매개변수는 tt\n",
    "    seq_list = []\n",
    "    aa_list = ['A', 'C', 'D', 'E', 'F', 'G', 'H', 'I', 'K', 'L', 'M', 'N', 'P', 'Q', 'R', 'S', 'T', 'V', 'W', 'Y', 'X']\n",
    "\n",
    "    for t in range(len(split_data)): # 39999번 돌리고\n",
    "        embedding_matrix = np.zeros((1000, 21)) # 임베딩 매트릭스 도화지만 만들어놨음 (컨벌루션 인풋데이터로 쓰인다.)\n",
    "        test = split_data[t] # 스플릿된 SEQ의 값을 하나씩 넣어줌 \n",
    "        for i in range(len(aa_list)): # 21번만큼 반복\n",
    "            if len(test) > 1000: # 현재 스플릿된 SEQ의 값이 1000보다 크면  lengh_test에 1000을 넣어줌\n",
    "                length_test = 1000\n",
    "            else:\n",
    "                length_test = len(test) # 1000보다 아래면 그냥 그 길이를 넣어줌\n",
    "            for j in range(length_test): # lengh_test의 길이만큼 반복 (1000또는 그보다 아래)\n",
    "                if aa_list[i] == test[j]: # aa_list의 값(0번쨰부터 ~21번쨰)과  SEQ split해서 하나씩 검사\n",
    "                     #A ==    #ASDADSASADASGSADASGDSFSDDFDSFSDFSDFSDF\n",
    "                    embedding_matrix[j,i] = 1 #같을때마다 1로바꿔줌 이게 바로 임베딩 매트릭스\n",
    "        seq_list.append(embedding_matrix)\n",
    "        \n",
    "    return seq_list\n",
    "\n",
    "train_data = one_hot_encoding(train)"
   ]
  },
  {
   "cell_type": "code",
   "execution_count": 27,
   "metadata": {},
   "outputs": [],
   "source": [
    "def one_hot_encoding(split_data): # 매개변수는 tt\n",
    "    seq_list = []\n",
    "    aa_list = ['A', 'C', 'D', 'E', 'F', 'G', 'H', 'I', 'K', 'L', 'M', 'N', 'P', 'Q', 'R', 'S', 'T', 'V', 'W', 'Y', 'X']\n",
    "\n",
    "    for t in range(len(split_data)): # 39999번 돌리고\n",
    "        embedding_matrix = np.zeros((1000, 21)) # 임베딩 매트릭스 도화지만 만들어놨음 (컨벌루션 인풋데이터로 쓰인다.)\n",
    "        test = split_data[t] # 스플릿된 SEQ의 값을 하나씩 넣어줌 \n",
    "        for i in range(len(aa_list)): # 21번만큼 반복\n",
    "            if len(test) > 1000: # 현재 스플릿된 SEQ의 값이 1000보다 크면  lengh_test에 1000을 넣어줌\n",
    "                length_test = 1000\n",
    "            else:\n",
    "                length_test = len(test) # 1000보다 아래면 그냥 그 길이를 넣어줌\n",
    "            for j in range(length_test): # lengh_test의 길이만큼 반복 (1000또는 그보다 아래)\n",
    "                if aa_list[i] == test[j]: # aa_list의 값(0번쨰부터 ~21번쨰)과  SEQ split해서 하나씩 검사\n",
    "                     #A ==    #ASDADSASADASGSADASGDSFSDDFDSFSDFSDFSDF\n",
    "                    embedding_matrix[j,i] = 1 #같을때마다 1로바꿔줌 이게 바로 임베딩 매트릭스\n",
    "        seq_list.append(embedding_matrix)\n",
    "        \n",
    "    return seq_list\n",
    "\n",
    "test_data = one_hot_encoding(test)"
   ]
  },
  {
   "cell_type": "code",
   "execution_count": 28,
   "metadata": {},
   "outputs": [
    {
     "data": {
      "text/plain": [
       "array([[0., 0., 0., ..., 0., 0., 0.],\n",
       "       [0., 0., 0., ..., 0., 0., 0.],\n",
       "       [0., 0., 0., ..., 0., 0., 0.],\n",
       "       ...,\n",
       "       [0., 0., 0., ..., 0., 0., 0.],\n",
       "       [0., 0., 0., ..., 0., 0., 0.],\n",
       "       [0., 0., 0., ..., 0., 0., 0.]])"
      ]
     },
     "execution_count": 28,
     "metadata": {},
     "output_type": "execute_result"
    }
   ],
   "source": [
    "train_data[0]"
   ]
  },
  {
   "cell_type": "code",
   "execution_count": 29,
   "metadata": {},
   "outputs": [
    {
     "data": {
      "text/plain": [
       "array([[0., 0., 0., ..., 0., 0., 0.],\n",
       "       [0., 0., 0., ..., 0., 0., 0.],\n",
       "       [0., 0., 0., ..., 0., 0., 0.],\n",
       "       ...,\n",
       "       [0., 0., 0., ..., 0., 0., 0.],\n",
       "       [0., 0., 0., ..., 0., 0., 0.],\n",
       "       [0., 0., 0., ..., 0., 0., 0.]])"
      ]
     },
     "execution_count": 29,
     "metadata": {},
     "output_type": "execute_result"
    }
   ],
   "source": [
    "test_data[0]"
   ]
  },
  {
   "cell_type": "code",
   "execution_count": 36,
   "metadata": {},
   "outputs": [],
   "source": [
    "use_cuda = torch.cuda.is_available()\n",
    "\n",
    "class CNN1(nn.Module):\n",
    "    \n",
    "    def __init__(self):\n",
    "        # 항상 torch.nn.Module을 상속받고 시작\n",
    "        super(CNN1, self).__init__()\n",
    "        conv1 = nn.Conv2d(1, 128, kernel_size = (4,21), stride = 1) # 6@24*24\n",
    "        batch_conv1 = nn.BatchNorm2d(128)\n",
    "        pool1 = nn.MaxPool2d(kernel_size=(997,1)) # 6@12*a12\n",
    "      \n",
    "        self.CNN1_module = nn.Sequential(\n",
    "            conv1,\n",
    "            batch_conv1,\n",
    "            nn.ReLU(),\n",
    "            pool1\n",
    "        )\n",
    "        \n",
    "        conv2 = nn.Conv2d(1, 128, kernel_size = (8,21), stride = 1) # 6@24*24\n",
    "        batch_conv2 = nn.BatchNorm2d(128)\n",
    "        pool2 = nn.MaxPool2d(kernel_size=(993,1)) # 6@12*a12\n",
    "        \n",
    "        self.CNN2_module = nn.Sequential(\n",
    "            conv2,\n",
    "            batch_conv2,\n",
    "            nn.ReLU(),\n",
    "            pool2\n",
    "        )\n",
    "        \n",
    "        conv3 = nn.Conv2d(1, 128, kernel_size = (16,21), stride = 1) # 6@24*24\n",
    "        batch_conv3 = nn.BatchNorm2d(128)\n",
    "        pool3 = nn.MaxPool2d(kernel_size=(985,1)) # 6@12*a12\n",
    "        \n",
    "        self.CNN3_module = nn.Sequential(\n",
    "            conv3,\n",
    "            batch_conv3,\n",
    "            nn.ReLU(),\n",
    "            pool3\n",
    "        )\n",
    "        \n",
    "        fc1 = nn.Linear(128, 512)\n",
    "        fc2 = nn.Linear(512, 512)\n",
    "        fc3 = nn.Linear(512, 2)\n",
    "        # activation ReLU\n",
    "\n",
    "        self.fc_module = nn.Sequential(\n",
    "            fc1,\n",
    "            nn.ReLU(),\n",
    "            fc2,\n",
    "            nn.ReLU(),\n",
    "            fc3,\n",
    "            nn.Sigmoid()\n",
    "        )\n",
    "        \n",
    "        if use_cuda:\n",
    "            self.CNN1_module = self.CNN1_module.cuda()\n",
    "            self.CNN2_module = self.CNN2_module.cuda()\n",
    "            self.CNN3_module = self.CNN3_module.cuda()\n",
    "            self.fc_module = self.fc_module.cuda()\n",
    "            \n",
    "    def forward(self, x):\n",
    "        out1 = self.CNN1_module(x) # @16*4*4\n",
    "        out2 = self.CNN2_module(x) # @16*4*4\n",
    "        out3 = self.CNN3_module(x) # @16*4*4\n",
    "        # make linear\n",
    "        out = out1+out2+out3\n",
    "        dim = 1\n",
    "        \n",
    "        for d in out.size()[1:]: #16, 4, 4\n",
    "            dim = dim * d\n",
    "        \n",
    "        out = out.view(-1, dim)\n",
    "        out = self.fc_module(out)\n",
    "        return out\n",
    "    \n",
    "class CNN2(nn.Module):\n",
    "    \n",
    "    def __init__(self):\n",
    "        # 항상 torch.nn.Module을 상속받고 시작\n",
    "        super(CNN2, self).__init__()\n",
    "\n",
    "        conv2 = nn.Conv2d(1, 128, kernel_size = (8, 21), stride = 1) # 6@24*24\n",
    "        pool2 = nn.MaxPool2d(kernel_size=(993,1)) # 6@12*a12\n",
    "        \n",
    "        self.CNN2_module = nn.Sequential(\n",
    "            conv2,\n",
    "            nn.ReLU(),\n",
    "            pool2\n",
    "        )\n",
    "        \n",
    "        fc1 = nn.Linear(128, 512)\n",
    "        fc2 = nn.Linear(512, 2)\n",
    "        # activation ReLU\n",
    "\n",
    "        self.fc_module = nn.Sequential(\n",
    "            fc1,\n",
    "            nn.ReLU(),\n",
    "            fc2,\n",
    "            nn.Sigmoid()\n",
    "        )\n",
    "        \n",
    "    def forward(self, x):\n",
    "        out_list = []\n",
    "        out = self.conv2_module(x) # @16*4*4\n",
    "        dim = 1\n",
    "        for d in out.size()[1:]: #16, 4, 4\n",
    "            dim = dim * d\n",
    "        out = out.view(-1, dim)\n",
    "        out = self.fc_module(out)\n",
    "        return out\n",
    "    \n",
    "class CNN3(nn.Module):\n",
    "    \n",
    "    def __init__(self):\n",
    "        # 항상 torch.nn.Module을 상속받고 시작\n",
    "        super(CNN1, self).__init__()\n",
    "\n",
    "        conv3 = nn.Conv2d(1, 128, kernel_size = (16, 21), stride = 1) # 6@24*24\n",
    "        pool3 = nn.MaxPool2d(kernel_size=(985,1)) # 6@12*a12\n",
    "        \n",
    "        self.CNN_module = nn.Sequential(\n",
    "            conv3,\n",
    "            nn.ReLU(),\n",
    "            pool3\n",
    "        )\n",
    "        \n",
    "        fc1 = nn.Linear(128, 512)\n",
    "        fc2 = nn.Linear(512, 2)\n",
    "        # activation ReLU\n",
    "\n",
    "        self.fc_module = nn.Sequential(\n",
    "            fc1,\n",
    "            nn.ReLU(),\n",
    "            fc2,\n",
    "            nn.Sigmoid()\n",
    "        )\n",
    "        \n",
    "    def forward(self, x):\n",
    "        out_list = []\n",
    "        out = self.CNN3_module(x) # @16*4*4\n",
    "        # make linear\n",
    "        dim = 1\n",
    "        for d in out.size()[1:]: #16, 4, 4\n",
    "            dim = dim * d\n",
    "        out = out.view(-1, dim)\n",
    "        out = self.fc_module(out)\n",
    "        return out"
   ]
  },
  {
   "cell_type": "code",
   "execution_count": 37,
   "metadata": {},
   "outputs": [],
   "source": [
    "cnn = CNN1()"
   ]
  },
  {
   "cell_type": "code",
   "execution_count": null,
   "metadata": {},
   "outputs": [],
   "source": [
    "import visdom\n",
    "\n",
    "vis = visdom.Visdom()\n",
    "vis.close(env=\"main\")"
   ]
  },
  {
   "cell_type": "code",
   "execution_count": 3,
   "metadata": {},
   "outputs": [],
   "source": [
    "def loss_tracker(loss_plot, loss_value, num):\n",
    "    '''num, loss_value, are Tensor'''\n",
    "    visline(X=num,\n",
    "           Y=loss_value,\n",
    "           win = loss_plot,\n",
    "           update='append'\n",
    "           )"
   ]
  },
  {
   "cell_type": "code",
   "execution_count": 18,
   "metadata": {
    "scrolled": true
   },
   "outputs": [],
   "source": [
    "loss_plt = vis.line([[0.,0.]], opts=dict(title='loss_tracker', legend=['loss_train','loss_test'], showlegend=True))"
   ]
  },
  {
   "cell_type": "code",
   "execution_count": 56,
   "metadata": {},
   "outputs": [
    {
     "name": "stdout",
     "output_type": "stream",
     "text": [
      "Epoch 1 - Training loss: 0.297542957265865\n"
     ]
    }
   ],
   "source": [
    "#criterion = nn.CrossEntropyLoss()\n",
    "# backpropagation method\n",
    "learning_rate = 0.00001\n",
    "optimizer = optim.Adam(cnn.parameters(), lr=learning_rate)\n",
    "# hyper-parameters\n",
    "epochs = 3\n",
    "\n",
    "history = {\n",
    "    'train_loss' : []\n",
    "}\n",
    "\n",
    "for e in range(1):\n",
    "    running_loss = 0\n",
    "    t = 0\n",
    "    for i in range(len(train_data)):\n",
    "            cnn.eval()\n",
    "            index_value = 0\n",
    "            tqwe = float(c[i])\n",
    "            \n",
    "            if tqwe == 1:\n",
    "                index_value = torch.FloatTensor([[0.0,tqwe]])\n",
    "            else:\n",
    "                index_value = torch.FloatTensor([[tqwe,0.0]])\n",
    "            #index_value = torch.LongTensor(index_data[i])\n",
    "            data = torch.from_numpy(train_data[t]).float()\n",
    "            data = data.view(1,1,1000,21)\n",
    "            \n",
    "            if use_cuda:\n",
    "                data = data.cuda()\n",
    "                index_value =index_value.cuda()\n",
    "                        \n",
    "            optimizer.zero_grad()\n",
    "            model_output = cnn(data)\n",
    "            loss_fn = nn.BCELoss()\n",
    "            loss = loss_fn(model_output, index_value)\n",
    "            \n",
    "            #loss = criterion(model_output,index_value)\n",
    "            loss.backward()\n",
    "            # weight update\n",
    "            optimizer.step()\n",
    "            t = t + 1 \n",
    "            running_loss += loss.item()\n",
    "\n",
    "    else:\n",
    "        print(\"Epoch {} - Training loss: {}\".format(e+1, running_loss/len(train_data)))\n",
    "                \n",
    "    history['train_loss'].append(running_loss)"
   ]
  },
  {
   "cell_type": "code",
   "execution_count": 34,
   "metadata": {},
   "outputs": [
    {
     "data": {
      "image/png": "[encoded data removed]",
      "text/plain": [
       "<Figure size 432x288 with 1 Axes>"
      ]
     },
     "metadata": {
      "needs_background": "light"
     },
     "output_type": "display_data"
    }
   ],
   "source": [
    "import matplotlib.pyplot as plt\n",
    "import matplotlib\n",
    "\n",
    "fig = plt.figure()\n",
    "plt.plot(range(epochs), history['train_loss'])\n",
    "plt.show()"
   ]
  },
  {
   "cell_type": "code",
   "execution_count": 60,
   "metadata": {},
   "outputs": [
    {
     "name": "stdout",
     "output_type": "stream",
     "text": [
      "Accuracy : 33.36\n"
     ]
    }
   ],
   "source": [
    "correct = 0\n",
    "total = 0\n",
    "with torch.no_grad():\n",
    "    for y in range(len(test_data)):\n",
    "        data = torch.from_numpy(test_data[y]).float()\n",
    "        data = data.view(1,1,1000,21)\n",
    "        outputs = cnn(data)\n",
    "        index_value = torch.LongTensor(d[y])\n",
    "        _, predicted = torch.max(outputs.data, 1)\n",
    "         #print(predicted)\n",
    "        correct += (predicted == index_value).sum().item()\n",
    "    print('Accuracy : %.2f'%(float((100 * correct) / len(test_data))))"
   ]
  },
  {
   "cell_type": "code",
   "execution_count": null,
   "metadata": {},
   "outputs": [],
   "source": [
    "#criterion = nn.CrossEntropyLoss()\n",
    "# backpropagation method\n",
    "learning_rate = 0.00001\n",
    "optimizer = optim.Adam(cnn.parameters(), lr=learning_rate)\n",
    "# hyper-parameters\n",
    "epochs = 1\n",
    "\n",
    "for e in range(epochs):\n",
    "    running_loss = 0\n",
    "    t = 0\n",
    "    for i in range(len(test_data)):\n",
    "            cnn.eval()\n",
    "\n",
    "            tqwe = float(d[i])\n",
    "            \n",
    "            if tqwe == 1:\n",
    "                index_value = torch.FloatTensor([0.0,tqwe])\n",
    "            else:\n",
    "                index_value = torch.FloatTensor([tqwe,0.0])\n",
    "            #index_value = torch.LongTensor(index_data[i])\n",
    "            data = torch.from_numpy(test_data[t]).float()\n",
    "            data = data.view(1,1,1000,21)\n",
    "            optimizer.zero_grad()\n",
    "            model_output = cnn(data)\n",
    "            loss_fn = nn.BCELoss()\n",
    "            loss = loss_fn(model_output, index_value)\n",
    "            \n",
    "            #loss = criterion(model_output,index_value)\n",
    "            loss.backward()\n",
    "            # weight update\n",
    "            optimizer.step()\n",
    "            t = t + 1 \n",
    "            running_loss += loss.item()\n",
    "        \n",
    "    else:\n",
    "        print(\"Epoch {} - Training loss: {}\".format(e+1, running_loss/len(test_data)))"
   ]
  },
  {
   "cell_type": "code",
   "execution_count": null,
   "metadata": {},
   "outputs": [],
   "source": [
    "# 학습시킨 모델을 save (쓸 때마다 다시 학습시킬 순 없다!)\n",
    "torch.save(net.state_dict(), \"./model/model.pth\")\n",
    "new_net = CNN()\n",
    "new_net.load_state_dict(torch.load('./model/model.pth'))"
   ]
  },
  {
   "cell_type": "code",
   "execution_count": null,
   "metadata": {},
   "outputs": [],
   "source": []
  },
  {
   "cell_type": "code",
   "execution_count": null,
   "metadata": {},
   "outputs": [],
   "source": []
  },
  {
   "cell_type": "code",
   "execution_count": null,
   "metadata": {},
   "outputs": [],
   "source": []
  },
  {
   "cell_type": "code",
   "execution_count": null,
   "metadata": {},
   "outputs": [],
   "source": []
  },
  {
   "cell_type": "code",
   "execution_count": null,
   "metadata": {},
   "outputs": [],
   "source": []
  },
  {
   "cell_type": "code",
   "execution_count": null,
   "metadata": {},
   "outputs": [],
   "source": []
  },
  {
   "cell_type": "code",
   "execution_count": null,
   "metadata": {},
   "outputs": [],
   "source": []
  },
  {
   "cell_type": "code",
   "execution_count": null,
   "metadata": {},
   "outputs": [],
   "source": []
  },
  {
   "cell_type": "code",
   "execution_count": null,
   "metadata": {},
   "outputs": [],
   "source": []
  },
  {
   "cell_type": "code",
   "execution_count": null,
   "metadata": {},
   "outputs": [],
   "source": []
  },
  {
   "cell_type": "code",
   "execution_count": null,
   "metadata": {},
   "outputs": [],
   "source": []
  },
  {
   "cell_type": "code",
   "execution_count": null,
   "metadata": {},
   "outputs": [],
   "source": []
  },
  {
   "cell_type": "code",
   "execution_count": null,
   "metadata": {},
   "outputs": [],
   "source": []
  },
  {
   "cell_type": "code",
   "execution_count": null,
   "metadata": {},
   "outputs": [],
   "source": []
  },
  {
   "cell_type": "code",
   "execution_count": null,
   "metadata": {},
   "outputs": [],
   "source": []
  },
  {
   "cell_type": "code",
   "execution_count": null,
   "metadata": {},
   "outputs": [],
   "source": []
  },
  {
   "cell_type": "code",
   "execution_count": 42,
   "metadata": {},
   "outputs": [],
   "source": [
    "from torch.utils.data import DataLoader\n",
    "test_set = DataLoader(dataset = test_data, batch_size = len(test_data))"
   ]
  },
  {
   "cell_type": "code",
   "execution_count": 43,
   "metadata": {},
   "outputs": [
    {
     "data": {
      "text/plain": [
       "<torch.utils.data.dataloader.DataLoader at 0x1ae578b2a48>"
      ]
     },
     "execution_count": 43,
     "metadata": {},
     "output_type": "execute_result"
    }
   ],
   "source": [
    "test_set"
   ]
  },
  {
   "cell_type": "code",
   "execution_count": null,
   "metadata": {},
   "outputs": [],
   "source": []
  }
 ],
 "metadata": {
  "kernelspec": {
   "display_name": "Python 3",
   "language": "python",
   "name": "python3"
  },
  "language_info": {
   "codemirror_mode": {
    "name": "ipython",
    "version": 3
   },
   "file_extension": ".py",
   "mimetype": "text/x-python",
   "name": "python",
   "nbconvert_exporter": "python",
   "pygments_lexer": "ipython3",
   "version": "3.7.4"
  }
 },
 "nbformat": 4,
 "nbformat_minor": 2
}
