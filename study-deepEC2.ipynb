{
 "cells": [
  {
   "cell_type": "code",
   "execution_count": 13,
   "metadata": {},
   "outputs": [],
   "source": [
    "import pandas as pd\n",
    "import numpy as np\n",
    "\n",
    "import torch \n",
    "import torch.nn as nn\n",
    "import torch.nn.functional as F\n",
    "import torch.optim as optim\n",
    "from torchvision import datasets, transforms\n",
    "from sklearn.model_selection import train_test_split"
   ]
  },
  {
   "cell_type": "code",
   "execution_count": 14,
   "metadata": {
    "scrolled": true
   },
   "outputs": [
    {
     "name": "stdout",
     "output_type": "stream",
     "text": [
      "<class 'pandas.core.frame.DataFrame'>\n"
     ]
    }
   ],
   "source": [
    "protein_data = pd.read_csv('./total_e+xias.csv')\n",
    "print(type(protein_data))"
   ]
  },
  {
   "cell_type": "code",
   "execution_count": 15,
   "metadata": {},
   "outputs": [],
   "source": [
    "# 데이터셋 레이블 과 기능 으로 나누기\n",
    "y = protein_data.SC\n",
    "X = protein_data.drop ( 'xias', axis = 1)"
   ]
  },
  {
   "cell_type": "code",
   "execution_count": 16,
   "metadata": {},
   "outputs": [
    {
     "name": "stdout",
     "output_type": "stream",
     "text": [
      "\n",
      "X_train:\n",
      "\n",
      "                                                     SEQ  SC\n",
      "27471  MAEEEAKGLDYIPEIVLKKRKNRDELAFIRKKQLELGNSGKKKKKV...   0\n",
      "8115   MLTREKAIEFLNSNDTGPILEMLNLINGTNNGKNITYSKNAFIPVC...   1\n",
      "20314  MKLSESTINKDYPFLSEEEDSKIISLICNYLSLGQFELARALILQS...   0\n",
      "5530   MEDPIKAIEEIFKKADQIFKFLDVKVINLEKGRAVVEIPYKEEFTR...   1\n",
      "20175  MKSSGLFPFLVLLALGTLAPWAVEGSGKSFKAGVCPPKKSAQCLRY...   0\n",
      "(23153, 2)\n",
      "\n",
      "X_test:\n",
      "\n",
      "                                                     SEQ  SC\n",
      "13804  MVDQVNLATEQTSLLYPEVSRKKEELSVNKWTILPALWVGGFLSAL...   0\n",
      "30416  MMPYNTPPNIQEPMNFASSNPFGIIPDALSFQNFKYDRLQQQQQQQ...   0\n",
      "16798  MATLLLLLGVLVVSPDALGSTTAVQTPTSGEPLVSTSEPLSSKMYT...   0\n",
      "19697  MKVLKRDSMLLLITLYFLLTTSMARQDPFLVGVEKDVVPAGTDLKQ...   0\n",
      "7618   MIDRFGRPLEDLRITLTHACNFECFFCHMEGEEGDNYLLSKEDILL...   1\n",
      "(9923, 2)\n"
     ]
    }
   ],
   "source": [
    "# 데이터셋  분할 \n",
    "X_train, X_test, y_train, y_test = train_test_split(X, y,test_size=0.3)\n",
    "print(\"\\nX_train:\\n\")\n",
    "print(X_train.head())\n",
    "print(X_train.shape)\n",
    "\n",
    "print(\"\\nX_test:\\n\")\n",
    "print(X_test.head())\n",
    "print(X_test.shape)"
   ]
  },
  {
   "cell_type": "code",
   "execution_count": 17,
   "metadata": {},
   "outputs": [
    {
     "name": "stdout",
     "output_type": "stream",
     "text": [
      "\n",
      "X_train:\n",
      "\n",
      "27471    0\n",
      "8115     1\n",
      "20314    0\n",
      "5530     1\n",
      "20175    0\n",
      "Name: SC, dtype: int64\n",
      "(23153,)\n",
      "\n",
      "X_test:\n",
      "\n",
      "13804    0\n",
      "30416    0\n",
      "16798    0\n",
      "19697    0\n",
      "7618     1\n",
      "Name: SC, dtype: int64\n",
      "(9923,)\n"
     ]
    }
   ],
   "source": [
    "print(\"\\nX_train:\\n\")\n",
    "print(y_train.head())\n",
    "print(y_train.shape)\n",
    "\n",
    "print(\"\\nX_test:\\n\")\n",
    "print(y_test.head())\n",
    "print(y_test.shape)"
   ]
  },
  {
   "cell_type": "code",
   "execution_count": 18,
   "metadata": {},
   "outputs": [
    {
     "name": "stdout",
     "output_type": "stream",
     "text": [
      "<class 'numpy.ndarray'>\n"
     ]
    }
   ],
   "source": [
    "a =X_train.loc[:,['SEQ']].values # SEQ열에 해당하는 데이터를 모두 읽어옴 (위에서 아래로)\n",
    "print(type(a))"
   ]
  },
  {
   "cell_type": "code",
   "execution_count": 20,
   "metadata": {},
   "outputs": [
    {
     "data": {
      "text/plain": [
       "array(['MAEEEAKGLDYIPEIVLKKRKNRDELAFIRKKQLELGNSGKKKKKVSDIKRPEDFVHEFRAKEVDMIRMKQRVKRPKSSPPPVKSDLVFIIRIQGKNDMHPKTKRILNNLQLKSVFTGVFAKATDSLFQKLLKVQPYVTYGYPNDKSVKDLIYKKGCTIIEGNPVPLTDNNIIEQALGEHKILGIEDLVNEIARVGDHFREVMRFLGPLKLNKPVADVLHRKKQVFSEGGDTGNREDKINDLISKMN'],\n",
       "      dtype=object)"
      ]
     },
     "execution_count": 20,
     "metadata": {},
     "output_type": "execute_result"
    }
   ],
   "source": [
    "a[0]"
   ]
  },
  {
   "cell_type": "code",
   "execution_count": 21,
   "metadata": {},
   "outputs": [],
   "source": [
    "b = X_test.loc[:,['SEQ']].values"
   ]
  },
  {
   "cell_type": "code",
   "execution_count": 22,
   "metadata": {},
   "outputs": [
    {
     "data": {
      "text/plain": [
       "array(['MVDQVNLATEQTSLLYPEVSRKKEELSVNKWTILPALWVGGFLSALDMTIVASLYPVIGSEFKLMNNASYIVTAYLITNTAFQPLYGRLSDIFGRRPTVVFANAAFTLGTFWCGISRSLPELCMARALAGIGGGGLGTMSSIISSDIVSLRERGTWQGITNIVWGIGGSLGGPLGGLIAQRWGWRTAFHFQVPMGILSTILVAWRVRVKPTVRNSNASLLSRIDYLGSFLLVTGITALVVTFNMGGDAFPWVSPVIITLLVSSVLILFAFYWVEKNIAVEPIAPVEILSQPTPLNVCLGNFFNAFCSFVIVYELPLFFETTLLMPSSEAGVRIFPYVISTSVGSLCSGLYMKKTGRYRNLVIAGFFFMLMGIVSFAVLTSFGHRTPLILISLCLAMTGCSYGMNLTSTLIAIISSLAPEEQAVATGLSYLFRATGSVIGISLSQTTTLSILMKQLASNLKDDPDKDDLIRRLRESISIIPNLPKDIQKLVIKSYATAFTWTFALVAIIAFAGFWCSLRIKQFYLHTSVDRS'],\n",
       "      dtype=object)"
      ]
     },
     "execution_count": 22,
     "metadata": {},
     "output_type": "execute_result"
    }
   ],
   "source": [
    "b[0]"
   ]
  },
  {
   "cell_type": "code",
   "execution_count": 23,
   "metadata": {},
   "outputs": [],
   "source": [
    "c = X_train.loc[:,['SC']].values"
   ]
  },
  {
   "cell_type": "code",
   "execution_count": 24,
   "metadata": {},
   "outputs": [
    {
     "data": {
      "text/plain": [
       "23153"
      ]
     },
     "execution_count": 24,
     "metadata": {},
     "output_type": "execute_result"
    }
   ],
   "source": [
    "len(c)"
   ]
  },
  {
   "cell_type": "code",
   "execution_count": 25,
   "metadata": {},
   "outputs": [],
   "source": [
    "d = X_test.loc[:,['SC']].values"
   ]
  },
  {
   "cell_type": "code",
   "execution_count": 26,
   "metadata": {},
   "outputs": [
    {
     "name": "stdout",
     "output_type": "stream",
     "text": [
      "['M', 'A', 'E', 'E', 'E', 'A', 'K', 'G', 'L', 'D', 'Y', 'I', 'P', 'E', 'I', 'V', 'L', 'K', 'K', 'R', 'K', 'N', 'R', 'D', 'E', 'L', 'A', 'F', 'I', 'R', 'K', 'K', 'Q', 'L', 'E', 'L', 'G', 'N', 'S', 'G', 'K', 'K', 'K', 'K', 'K', 'V', 'S', 'D', 'I', 'K', 'R', 'P', 'E', 'D', 'F', 'V', 'H', 'E', 'F', 'R', 'A', 'K', 'E', 'V', 'D', 'M', 'I', 'R', 'M', 'K', 'Q', 'R', 'V', 'K', 'R', 'P', 'K', 'S', 'S', 'P', 'P', 'P', 'V', 'K', 'S', 'D', 'L', 'V', 'F', 'I', 'I', 'R', 'I', 'Q', 'G', 'K', 'N', 'D', 'M', 'H', 'P', 'K', 'T', 'K', 'R', 'I', 'L', 'N', 'N', 'L', 'Q', 'L', 'K', 'S', 'V', 'F', 'T', 'G', 'V', 'F', 'A', 'K', 'A', 'T', 'D', 'S', 'L', 'F', 'Q', 'K', 'L', 'L', 'K', 'V', 'Q', 'P', 'Y', 'V', 'T', 'Y', 'G', 'Y', 'P', 'N', 'D', 'K', 'S', 'V', 'K', 'D', 'L', 'I', 'Y', 'K', 'K', 'G', 'C', 'T', 'I', 'I', 'E', 'G', 'N', 'P', 'V', 'P', 'L', 'T', 'D', 'N', 'N', 'I', 'I', 'E', 'Q', 'A', 'L', 'G', 'E', 'H', 'K', 'I', 'L', 'G', 'I', 'E', 'D', 'L', 'V', 'N', 'E', 'I', 'A', 'R', 'V', 'G', 'D', 'H', 'F', 'R', 'E', 'V', 'M', 'R', 'F', 'L', 'G', 'P', 'L', 'K', 'L', 'N', 'K', 'P', 'V', 'A', 'D', 'V', 'L', 'H', 'R', 'K', 'K', 'Q', 'V', 'F', 'S', 'E', 'G', 'G', 'D', 'T', 'G', 'N', 'R', 'E', 'D', 'K', 'I', 'N', 'D', 'L', 'I', 'S', 'K', 'M', 'N']\n",
      "23153\n"
     ]
    }
   ],
   "source": [
    "def split_data(train): # dataset ->a (X_train)\n",
    "    list_test = []\n",
    "    for i in range(train.shape[0]): #  39999,2\n",
    "        presplit = train[i] # a의 0번째 의 SEQ부터 최대크기까지(30000) 넣고 \n",
    "        list_test.append(list(presplit[0])) #한글자씩 잘라서 리스트에 저장\n",
    "\n",
    "    return list_test #모든 SEQ를 한글자씩 잘라놓은것을 리턴\n",
    "\n",
    "train = split_data(a)\n",
    "\n",
    "print(train[0])\n",
    "print(len(train))"
   ]
  },
  {
   "cell_type": "code",
   "execution_count": 27,
   "metadata": {},
   "outputs": [
    {
     "name": "stdout",
     "output_type": "stream",
     "text": [
      "['M', 'V', 'D', 'Q', 'V', 'N', 'L', 'A', 'T', 'E', 'Q', 'T', 'S', 'L', 'L', 'Y', 'P', 'E', 'V', 'S', 'R', 'K', 'K', 'E', 'E', 'L', 'S', 'V', 'N', 'K', 'W', 'T', 'I', 'L', 'P', 'A', 'L', 'W', 'V', 'G', 'G', 'F', 'L', 'S', 'A', 'L', 'D', 'M', 'T', 'I', 'V', 'A', 'S', 'L', 'Y', 'P', 'V', 'I', 'G', 'S', 'E', 'F', 'K', 'L', 'M', 'N', 'N', 'A', 'S', 'Y', 'I', 'V', 'T', 'A', 'Y', 'L', 'I', 'T', 'N', 'T', 'A', 'F', 'Q', 'P', 'L', 'Y', 'G', 'R', 'L', 'S', 'D', 'I', 'F', 'G', 'R', 'R', 'P', 'T', 'V', 'V', 'F', 'A', 'N', 'A', 'A', 'F', 'T', 'L', 'G', 'T', 'F', 'W', 'C', 'G', 'I', 'S', 'R', 'S', 'L', 'P', 'E', 'L', 'C', 'M', 'A', 'R', 'A', 'L', 'A', 'G', 'I', 'G', 'G', 'G', 'G', 'L', 'G', 'T', 'M', 'S', 'S', 'I', 'I', 'S', 'S', 'D', 'I', 'V', 'S', 'L', 'R', 'E', 'R', 'G', 'T', 'W', 'Q', 'G', 'I', 'T', 'N', 'I', 'V', 'W', 'G', 'I', 'G', 'G', 'S', 'L', 'G', 'G', 'P', 'L', 'G', 'G', 'L', 'I', 'A', 'Q', 'R', 'W', 'G', 'W', 'R', 'T', 'A', 'F', 'H', 'F', 'Q', 'V', 'P', 'M', 'G', 'I', 'L', 'S', 'T', 'I', 'L', 'V', 'A', 'W', 'R', 'V', 'R', 'V', 'K', 'P', 'T', 'V', 'R', 'N', 'S', 'N', 'A', 'S', 'L', 'L', 'S', 'R', 'I', 'D', 'Y', 'L', 'G', 'S', 'F', 'L', 'L', 'V', 'T', 'G', 'I', 'T', 'A', 'L', 'V', 'V', 'T', 'F', 'N', 'M', 'G', 'G', 'D', 'A', 'F', 'P', 'W', 'V', 'S', 'P', 'V', 'I', 'I', 'T', 'L', 'L', 'V', 'S', 'S', 'V', 'L', 'I', 'L', 'F', 'A', 'F', 'Y', 'W', 'V', 'E', 'K', 'N', 'I', 'A', 'V', 'E', 'P', 'I', 'A', 'P', 'V', 'E', 'I', 'L', 'S', 'Q', 'P', 'T', 'P', 'L', 'N', 'V', 'C', 'L', 'G', 'N', 'F', 'F', 'N', 'A', 'F', 'C', 'S', 'F', 'V', 'I', 'V', 'Y', 'E', 'L', 'P', 'L', 'F', 'F', 'E', 'T', 'T', 'L', 'L', 'M', 'P', 'S', 'S', 'E', 'A', 'G', 'V', 'R', 'I', 'F', 'P', 'Y', 'V', 'I', 'S', 'T', 'S', 'V', 'G', 'S', 'L', 'C', 'S', 'G', 'L', 'Y', 'M', 'K', 'K', 'T', 'G', 'R', 'Y', 'R', 'N', 'L', 'V', 'I', 'A', 'G', 'F', 'F', 'F', 'M', 'L', 'M', 'G', 'I', 'V', 'S', 'F', 'A', 'V', 'L', 'T', 'S', 'F', 'G', 'H', 'R', 'T', 'P', 'L', 'I', 'L', 'I', 'S', 'L', 'C', 'L', 'A', 'M', 'T', 'G', 'C', 'S', 'Y', 'G', 'M', 'N', 'L', 'T', 'S', 'T', 'L', 'I', 'A', 'I', 'I', 'S', 'S', 'L', 'A', 'P', 'E', 'E', 'Q', 'A', 'V', 'A', 'T', 'G', 'L', 'S', 'Y', 'L', 'F', 'R', 'A', 'T', 'G', 'S', 'V', 'I', 'G', 'I', 'S', 'L', 'S', 'Q', 'T', 'T', 'T', 'L', 'S', 'I', 'L', 'M', 'K', 'Q', 'L', 'A', 'S', 'N', 'L', 'K', 'D', 'D', 'P', 'D', 'K', 'D', 'D', 'L', 'I', 'R', 'R', 'L', 'R', 'E', 'S', 'I', 'S', 'I', 'I', 'P', 'N', 'L', 'P', 'K', 'D', 'I', 'Q', 'K', 'L', 'V', 'I', 'K', 'S', 'Y', 'A', 'T', 'A', 'F', 'T', 'W', 'T', 'F', 'A', 'L', 'V', 'A', 'I', 'I', 'A', 'F', 'A', 'G', 'F', 'W', 'C', 'S', 'L', 'R', 'I', 'K', 'Q', 'F', 'Y', 'L', 'H', 'T', 'S', 'V', 'D', 'R', 'S']\n",
      "9923\n"
     ]
    }
   ],
   "source": [
    "def split_data(test): # dataset ->(X_test)\n",
    "    list_test = []\n",
    "    for i in range(test.shape[0]): #  39999,2\n",
    "        presplit = test[i] # b의 0번째 의 SEQ부터 최대크기까지(30000) 넣고 \n",
    "        list_test.append(list(presplit[0])) #한글자씩 잘라서 리스트에 저장\n",
    "\n",
    "    return list_test #모든 SEQ를 한글자씩 잘라놓은것을 리턴\n",
    "\n",
    "test = split_data(b)\n",
    "print(test[0])\n",
    "print(len(test))"
   ]
  },
  {
   "cell_type": "code",
   "execution_count": 28,
   "metadata": {},
   "outputs": [],
   "source": [
    "def one_hot_encoding(split_data): # 매개변수는 tt\n",
    "    seq_list = []\n",
    "    aa_list = ['A', 'C', 'D', 'E', 'F', 'G', 'H', 'I', 'K', 'L', 'M', 'N', 'P', 'Q', 'R', 'S', 'T', 'V', 'W', 'Y', 'X']\n",
    "\n",
    "    for t in range(len(split_data)): # 39999번 돌리고\n",
    "        embedding_matrix = np.zeros((1000, 21)) # 임베딩 매트릭스 도화지만 만들어놨음 (컨벌루션 인풋데이터로 쓰인다.)\n",
    "        test = split_data[t] # 스플릿된 SEQ의 값을 하나씩 넣어줌 \n",
    "        for i in range(len(aa_list)): # 21번만큼 반복\n",
    "            if len(test) > 1000: # 현재 스플릿된 SEQ의 값이 1000보다 크면  lengh_test에 1000을 넣어줌\n",
    "                length_test = 1000\n",
    "            else:\n",
    "                length_test = len(test) # 1000보다 아래면 그냥 그 길이를 넣어줌\n",
    "            for j in range(length_test): # lengh_test의 길이만큼 반복 (1000또는 그보다 아래)\n",
    "                if aa_list[i] == test[j]: # aa_list의 값(0번쨰부터 ~21번쨰)과  SEQ split해서 하나씩 검사\n",
    "                     #A ==    #ASDADSASADASGSADASGDSFSDDFDSFSDFSDFSDF\n",
    "                    embedding_matrix[j,i] = 1 #같을때마다 1로바꿔줌 이게 바로 임베딩 매트릭스\n",
    "        seq_list.append(embedding_matrix)\n",
    "        \n",
    "    return seq_list\n",
    "\n",
    "train_data = one_hot_encoding(train)"
   ]
  },
  {
   "cell_type": "code",
   "execution_count": 29,
   "metadata": {},
   "outputs": [],
   "source": [
    "def one_hot_encoding(split_data): # 매개변수는 tt\n",
    "    seq_list = []\n",
    "    aa_list = ['A', 'C', 'D', 'E', 'F', 'G', 'H', 'I', 'K', 'L', 'M', 'N', 'P', 'Q', 'R', 'S', 'T', 'V', 'W', 'Y', 'X']\n",
    "\n",
    "    for t in range(len(split_data)): # 39999번 돌리고\n",
    "        embedding_matrix = np.zeros((1000, 21)) # 임베딩 매트릭스 도화지만 만들어놨음 (컨벌루션 인풋데이터로 쓰인다.)\n",
    "        test = split_data[t] # 스플릿된 SEQ의 값을 하나씩 넣어줌 \n",
    "        for i in range(len(aa_list)): # 21번만큼 반복\n",
    "            if len(test) > 1000: # 현재 스플릿된 SEQ의 값이 1000보다 크면  lengh_test에 1000을 넣어줌\n",
    "                length_test = 1000\n",
    "            else:\n",
    "                length_test = len(test) # 1000보다 아래면 그냥 그 길이를 넣어줌\n",
    "            for j in range(length_test): # lengh_test의 길이만큼 반복 (1000또는 그보다 아래)\n",
    "                if aa_list[i] == test[j]: # aa_list의 값(0번쨰부터 ~21번쨰)과  SEQ split해서 하나씩 검사\n",
    "                     #A ==    #ASDADSASADASGSADASGDSFSDDFDSFSDFSDFSDF\n",
    "                    embedding_matrix[j,i] = 1 #같을때마다 1로바꿔줌 이게 바로 임베딩 매트릭스\n",
    "        seq_list.append(embedding_matrix)\n",
    "        \n",
    "    return seq_list\n",
    "\n",
    "test_data = one_hot_encoding(test)"
   ]
  },
  {
   "cell_type": "code",
   "execution_count": 30,
   "metadata": {},
   "outputs": [
    {
     "data": {
      "text/plain": [
       "array([[0., 0., 0., ..., 0., 0., 0.],\n",
       "       [1., 0., 0., ..., 0., 0., 0.],\n",
       "       [0., 0., 0., ..., 0., 0., 0.],\n",
       "       ...,\n",
       "       [0., 0., 0., ..., 0., 0., 0.],\n",
       "       [0., 0., 0., ..., 0., 0., 0.],\n",
       "       [0., 0., 0., ..., 0., 0., 0.]])"
      ]
     },
     "execution_count": 30,
     "metadata": {},
     "output_type": "execute_result"
    }
   ],
   "source": [
    "train_data[0]"
   ]
  },
  {
   "cell_type": "code",
   "execution_count": 31,
   "metadata": {},
   "outputs": [
    {
     "data": {
      "text/plain": [
       "array([[0., 0., 0., ..., 0., 0., 0.],\n",
       "       [0., 0., 0., ..., 0., 0., 0.],\n",
       "       [0., 0., 1., ..., 0., 0., 0.],\n",
       "       ...,\n",
       "       [0., 0., 0., ..., 0., 0., 0.],\n",
       "       [0., 0., 0., ..., 0., 0., 0.],\n",
       "       [0., 0., 0., ..., 0., 0., 0.]])"
      ]
     },
     "execution_count": 31,
     "metadata": {},
     "output_type": "execute_result"
    }
   ],
   "source": [
    "test_data[0]"
   ]
  },
  {
   "cell_type": "code",
   "execution_count": 32,
   "metadata": {},
   "outputs": [],
   "source": [
    "class CNN1(nn.Module):\n",
    "    \n",
    "    def __init__(self):\n",
    "        # 항상 torch.nn.Module을 상속받고 시작\n",
    "        super(CNN1, self).__init__()\n",
    "        conv1 = nn.Conv2d(1, 128, kernel_size = (4,21), stride = 1) # 6@24*24\n",
    "        batch_conv1 = nn.BatchNorm2d(128)\n",
    "        pool1 = nn.MaxPool2d(kernel_size=(997,1)) # 6@12*a12\n",
    "      \n",
    "        self.CNN1_module = nn.Sequential(\n",
    "            conv1,\n",
    "            batch_conv1,\n",
    "            nn.ReLU(),\n",
    "            pool1\n",
    "        )\n",
    "        \n",
    "        conv2 = nn.Conv2d(1, 128, kernel_size = (8,21), stride = 1) # 6@24*24\n",
    "        batch_conv2 = nn.BatchNorm2d(128)\n",
    "        pool2 = nn.MaxPool2d(kernel_size=(993,1)) # 6@12*a12\n",
    "        \n",
    "        self.CNN2_module = nn.Sequential(\n",
    "            conv2,\n",
    "            batch_conv2,\n",
    "            nn.ReLU(),\n",
    "            pool2\n",
    "        )\n",
    "        \n",
    "        conv3 = nn.Conv2d(1, 128, kernel_size = (16,21), stride = 1) # 6@24*24\n",
    "        batch_conv3 = nn.BatchNorm2d(128)\n",
    "        pool3 = nn.MaxPool2d(kernel_size=(985,1)) # 6@12*a12\n",
    "        \n",
    "        self.CNN3_module = nn.Sequential(\n",
    "            conv3,\n",
    "            batch_conv3,\n",
    "            nn.ReLU(),\n",
    "            pool3\n",
    "        )\n",
    "        \n",
    "        fc1 = nn.Linear(128, 512)\n",
    "        fc2 = nn.Linear(512, 512)\n",
    "        fc3 = nn.Linear(512, 2)\n",
    "        # activation ReLU\n",
    "\n",
    "        self.fc_module = nn.Sequential(\n",
    "            fc1,\n",
    "            nn.ReLU(),\n",
    "            fc2,\n",
    "            nn.ReLU(),\n",
    "            fc3,\n",
    "            nn.Sigmoid()\n",
    "        )\n",
    "        \n",
    "\n",
    "    def forward(self, x):\n",
    "        out1 = self.CNN1_module(x) # @16*4*4\n",
    "        out2 = self.CNN2_module(x) # @16*4*4\n",
    "        out3 = self.CNN3_module(x) # @16*4*4\n",
    "        # make linear\n",
    "        out = out1+out2+out3\n",
    "        dim = 1\n",
    "        \n",
    "        for d in out.size()[1:]: #16, 4, 4\n",
    "            dim = dim * d\n",
    "        \n",
    "        out = out.view(-1, dim)\n",
    "        out = self.fc_module(out)\n",
    "        return out\n",
    "    \n",
    "class CNN2(nn.Module):\n",
    "    \n",
    "    def __init__(self):\n",
    "        # 항상 torch.nn.Module을 상속받고 시작\n",
    "        super(CNN2, self).__init__()\n",
    "\n",
    "        conv2 = nn.Conv2d(1, 128, kernel_size = (8, 21), stride = 1) # 6@24*24\n",
    "        pool2 = nn.MaxPool2d(kernel_size=(993,1)) # 6@12*a12\n",
    "        \n",
    "        self.CNN2_module = nn.Sequential(\n",
    "            conv2,\n",
    "            nn.ReLU(),\n",
    "            pool2\n",
    "        )\n",
    "        \n",
    "        fc1 = nn.Linear(128, 512)\n",
    "        fc2 = nn.Linear(512, 2)\n",
    "        # activation ReLU\n",
    "\n",
    "        self.fc_module = nn.Sequential(\n",
    "            fc1,\n",
    "            nn.ReLU(),\n",
    "            fc2,\n",
    "            nn.Sigmoid()\n",
    "        )\n",
    "        \n",
    "    def forward(self, x):\n",
    "        out_list = []\n",
    "        out = self.conv2_module(x) # @16*4*4\n",
    "        dim = 1\n",
    "        for d in out.size()[1:]: #16, 4, 4\n",
    "            dim = dim * d\n",
    "        out = out.view(-1, dim)\n",
    "        out = self.fc_module(out)\n",
    "        return out\n",
    "    \n",
    "class CNN3(nn.Module):\n",
    "    \n",
    "    def __init__(self):\n",
    "        # 항상 torch.nn.Module을 상속받고 시작\n",
    "        super(CNN1, self).__init__()\n",
    "\n",
    "        conv3 = nn.Conv2d(1, 128, kernel_size = (16, 21), stride = 1) # 6@24*24\n",
    "        pool3 = nn.MaxPool2d(kernel_size=(985,1)) # 6@12*a12\n",
    "        \n",
    "        self.CNN_module = nn.Sequential(\n",
    "            conv3,\n",
    "            nn.ReLU(),\n",
    "            pool3\n",
    "        )\n",
    "        \n",
    "        fc1 = nn.Linear(128, 512)\n",
    "        fc2 = nn.Linear(512, 2)\n",
    "        # activation ReLU\n",
    "\n",
    "        self.fc_module = nn.Sequential(\n",
    "            fc1,\n",
    "            nn.ReLU(),\n",
    "            fc2,\n",
    "            nn.Sigmoid()\n",
    "        )\n",
    "        \n",
    "    def forward(self, x):\n",
    "        out_list = []\n",
    "        out = self.CNN3_module(x) # @16*4*4\n",
    "        # make linear\n",
    "        dim = 1\n",
    "        for d in out.size()[1:]: #16, 4, 4\n",
    "            dim = dim * d\n",
    "        out = out.view(-1, dim)\n",
    "        out = self.fc_module(out)\n",
    "        return out"
   ]
  },
  {
   "cell_type": "code",
   "execution_count": 33,
   "metadata": {},
   "outputs": [],
   "source": [
    "cnn = CNN1()"
   ]
  },
  {
   "cell_type": "code",
   "execution_count": 34,
   "metadata": {},
   "outputs": [
    {
     "name": "stdout",
     "output_type": "stream",
     "text": [
      "Epoch 1 - Training loss: 0.3039767160576947\n",
      "Epoch 2 - Training loss: 0.16677501103468126\n",
      "Epoch 3 - Training loss: 0.11680266369569421\n"
     ]
    }
   ],
   "source": [
    "#criterion = nn.CrossEntropyLoss()\n",
    "# backpropagation method\n",
    "learning_rate = 0.00001\n",
    "optimizer = optim.Adam(cnn.parameters(), lr=learning_rate)\n",
    "# hyper-parameters\n",
    "epochs = 3\n",
    "\n",
    "history = {\n",
    "    'train_loss' : []\n",
    "}\n",
    "\n",
    "for e in range(epochs):\n",
    "    running_loss = 0\n",
    "    t = 0\n",
    "    for i in range(len(train_data)):\n",
    "            cnn.eval()\n",
    "            index_value = 0\n",
    "            tqwe = float(c[i])\n",
    "            \n",
    "            if tqwe == 1:\n",
    "                index_value = torch.FloatTensor([[0.0,tqwe]])\n",
    "            else:\n",
    "                index_value = torch.FloatTensor([[tqwe,0.0]])\n",
    "            #index_value = torch.LongTensor(index_data[i])\n",
    "            data = torch.from_numpy(train_data[t]).float()\n",
    "            data = data.view(1,1,1000,21)\n",
    "             \n",
    "            optimizer.zero_grad()\n",
    "            model_output = cnn(data)\n",
    "            loss_fn = nn.BCELoss()\n",
    "            loss = loss_fn(model_output, index_value)\n",
    "            \n",
    "            #loss = criterion(model_output,index_value)\n",
    "            loss.backward()\n",
    "            # weight update\n",
    "            optimizer.step()\n",
    "            t = t + 1 \n",
    "            running_loss += loss.item()\n",
    "\n",
    "    else:\n",
    "        print(\"Epoch {} - Training loss: {}\".format(e+1, running_loss/len(train_data)))\n",
    "                \n",
    "    history['train_loss'].append(running_loss)"
   ]
  },
  {
   "cell_type": "code",
   "execution_count": 35,
   "metadata": {},
   "outputs": [
    {
     "data": {
      "image/png": "[encoded data removed]",
      "text/plain": [
       "<Figure size 432x288 with 1 Axes>"
      ]
     },
     "metadata": {
      "needs_background": "light"
     },
     "output_type": "display_data"
    }
   ],
   "source": [
    "import matplotlib.pyplot as plt\n",
    "import matplotlib\n",
    "\n",
    "fig = plt.figure()\n",
    "plt.plot(range(epochs), history['train_loss'])\n",
    "plt.show()"
   ]
  },
  {
   "cell_type": "code",
   "execution_count": 38,
   "metadata": {},
   "outputs": [
    {
     "name": "stdout",
     "output_type": "stream",
     "text": [
      "Accuracy : 100.00\n"
     ]
    }
   ],
   "source": [
    "correct = 0\n",
    "total = 0\n",
    "with torch.no_grad():\n",
    "    for y in range(len(test_data)):\n",
    "        data = torch.from_numpy(test_data[y]).float()\n",
    "        data = data.view(1,1,1000,21)\n",
    "        tqwe = torch.LongTensor(d[y])\n",
    "        outputs = cnn(data)\n",
    "        \n",
    "        _, predicted = torch.max(outputs.data, 1)\n",
    "        total = tqwe.size(0)\n",
    "         #print(predicted)\n",
    "        correct += predicted.sum().item()\n",
    "    print('Accuracy : %.2f' %(float((100 * correct) / len(test_data))))"
   ]
  },
  {
   "cell_type": "code",
   "execution_count": 39,
   "metadata": {},
   "outputs": [
    {
     "name": "stdout",
     "output_type": "stream",
     "text": [
      "Epoch 1 - Training loss: 0.11876496177122879\n",
      "Epoch 2 - Training loss: 0.10759915915502619\n",
      "Epoch 3 - Training loss: 0.09722834872260762\n"
     ]
    }
   ],
   "source": [
    "#criterion = nn.CrossEntropyLoss()\n",
    "# backpropagation method\n",
    "learning_rate = 0.00001\n",
    "optimizer = optim.Adam(cnn.parameters(), lr=learning_rate)\n",
    "# hyper-parameters\n",
    "epochs = 3\n",
    "\n",
    "historyy = {\n",
    "    'test_loss' : []\n",
    "}\n",
    "\n",
    "for e in range(epochs):\n",
    "    running_loss = 0\n",
    "    t = 0\n",
    "    for i in range(len(test_data)):\n",
    "            cnn.eval()\n",
    "\n",
    "            tqwe = float(d[i])\n",
    "            \n",
    "            if tqwe == 1:\n",
    "                index_value = torch.FloatTensor([[0.0,tqwe]])\n",
    "            else:\n",
    "                index_value = torch.FloatTensor([[tqwe,0.0]])\n",
    "            #index_value = torch.LongTensor(index_data[i])\n",
    "            data = torch.from_numpy(test_data[t]).float()\n",
    "            data = data.view(1,1,1000,21)\n",
    "\n",
    "            optimizer.zero_grad()\n",
    "            model_output = cnn(data)\n",
    "            loss_fn = nn.BCELoss()\n",
    "            loss = loss_fn(model_output, index_value)\n",
    "            \n",
    "            #loss = criterion(model_output,index_value)\n",
    "            loss.backward()\n",
    "            # weight update\n",
    "            optimizer.step()\n",
    "            t = t + 1 \n",
    "            running_loss += loss.item()\n",
    "        \n",
    "    else:\n",
    "        print(\"Epoch {} - Training loss: {}\".format(e+1, running_loss/len(test_data)))\n",
    "        \n",
    "    historyy['test_loss'].append(running_loss)"
   ]
  },
  {
   "cell_type": "code",
   "execution_count": 40,
   "metadata": {},
   "outputs": [],
   "source": [
    "s=[]\n",
    "ss=[]\n",
    "sss = 0.000100\n",
    "\n",
    "ssss= history['train_loss']\n",
    "sssss=historyy['test_loss']\n",
    "\n",
    "for i in range (len(ssss)):\n",
    "    s.append(ssss[i]*sss)\n",
    "    ss.append(sssss[i]*sss)"
   ]
  },
  {
   "cell_type": "code",
   "execution_count": 41,
   "metadata": {},
   "outputs": [
    {
     "data": {
      "image/png": "[encoded data removed]",
      "text/plain": [
       "<Figure size 432x288 with 1 Axes>"
      ]
     },
     "metadata": {
      "needs_background": "light"
     },
     "output_type": "display_data"
    }
   ],
   "source": [
    "fig = plt.figure()\n",
    "plt.plot(range(epochs), s, label = 'Train')\n",
    "plt.plot(range(epochs), ss, label = 'Test')\n",
    "plt.xlabel('epochs')\n",
    "plt.ylabel('Loss')\n",
    "plt.title('Train/Test Loss')\n",
    "plt.legend()\n",
    "plt.show()"
   ]
  },
  {
   "cell_type": "code",
   "execution_count": null,
   "metadata": {},
   "outputs": [],
   "source": []
  },
  {
   "cell_type": "code",
   "execution_count": null,
   "metadata": {},
   "outputs": [],
   "source": []
  },
  {
   "cell_type": "code",
   "execution_count": null,
   "metadata": {},
   "outputs": [],
   "source": []
  },
  {
   "cell_type": "code",
   "execution_count": null,
   "metadata": {},
   "outputs": [],
   "source": []
  },
  {
   "cell_type": "code",
   "execution_count": null,
   "metadata": {},
   "outputs": [],
   "source": []
  },
  {
   "cell_type": "code",
   "execution_count": null,
   "metadata": {},
   "outputs": [],
   "source": []
  },
  {
   "cell_type": "code",
   "execution_count": null,
   "metadata": {},
   "outputs": [],
   "source": []
  },
  {
   "cell_type": "code",
   "execution_count": null,
   "metadata": {},
   "outputs": [],
   "source": []
  },
  {
   "cell_type": "code",
   "execution_count": null,
   "metadata": {},
   "outputs": [],
   "source": []
  },
  {
   "cell_type": "code",
   "execution_count": null,
   "metadata": {},
   "outputs": [],
   "source": []
  },
  {
   "cell_type": "code",
   "execution_count": null,
   "metadata": {},
   "outputs": [],
   "source": []
  },
  {
   "cell_type": "code",
   "execution_count": null,
   "metadata": {},
   "outputs": [],
   "source": []
  },
  {
   "cell_type": "code",
   "execution_count": null,
   "metadata": {},
   "outputs": [],
   "source": []
  },
  {
   "cell_type": "code",
   "execution_count": null,
   "metadata": {},
   "outputs": [],
   "source": []
  },
  {
   "cell_type": "code",
   "execution_count": null,
   "metadata": {},
   "outputs": [],
   "source": []
  },
  {
   "cell_type": "code",
   "execution_count": null,
   "metadata": {},
   "outputs": [],
   "source": []
  },
  {
   "cell_type": "code",
   "execution_count": 42,
   "metadata": {},
   "outputs": [],
   "source": [
    "from torch.utils.data import DataLoader\n",
    "test_set = DataLoader(dataset = test_data, batch_size = len(test_data))"
   ]
  },
  {
   "cell_type": "code",
   "execution_count": 43,
   "metadata": {},
   "outputs": [
    {
     "data": {
      "text/plain": [
       "<torch.utils.data.dataloader.DataLoader at 0x1ae578b2a48>"
      ]
     },
     "execution_count": 43,
     "metadata": {},
     "output_type": "execute_result"
    }
   ],
   "source": [
    "test_set"
   ]
  },
  {
   "cell_type": "code",
   "execution_count": null,
   "metadata": {},
   "outputs": [],
   "source": []
  }
 ],
 "metadata": {
  "kernelspec": {
   "display_name": "Python 3",
   "language": "python",
   "name": "python3"
  },
  "language_info": {
   "codemirror_mode": {
    "name": "ipython",
    "version": 3
   },
   "file_extension": ".py",
   "mimetype": "text/x-python",
   "name": "python",
   "nbconvert_exporter": "python",
   "pygments_lexer": "ipython3",
   "version": "3.7.4"
  }
 },
 "nbformat": 4,
 "nbformat_minor": 2
}
