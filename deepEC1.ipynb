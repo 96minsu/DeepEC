{
 "cells": [
  {
   "cell_type": "code",
   "execution_count": 1,
   "metadata": {},
   "outputs": [],
   "source": [
    "import pandas as pd\n",
    "import numpy as np\n",
    "\n",
    "import torch \n",
    "import torch.nn as nn\n",
    "import torch.nn.functional as F\n",
    "import torch.optim as optim\n",
    "from torchvision import datasets, transforms"
   ]
  },
  {
   "cell_type": "code",
   "execution_count": 2,
   "metadata": {},
   "outputs": [],
   "source": [
    "data = np.zeros((1000, 21))\n",
    "\n",
    "protein_data = pd.read_csv('./EC number database_Archaea1.csv')\n",
    "seq_data = protein_data.loc[:,['SEQ']].values # Extract the 'label' from 'dataFrame'."
   ]
  },
  {
   "cell_type": "code",
   "execution_count": 3,
   "metadata": {},
   "outputs": [],
   "source": [
    "seq_data = seq_data[0:7000]"
   ]
  },
  {
   "cell_type": "code",
   "execution_count": 4,
   "metadata": {},
   "outputs": [],
   "source": [
    "non = []\n",
    "t = 0\n",
    "with open('123.txt', 'r') as f:\n",
    "    for s in f:\n",
    "        lenth = len(s)-1\n",
    "        if t == 7000:\n",
    "            break;\n",
    "        non.append(s[1:lenth])      \n",
    "        t = t + 1"
   ]
  },
  {
   "cell_type": "code",
   "execution_count": 5,
   "metadata": {},
   "outputs": [],
   "source": [
    "aa_list = ['A', 'C', 'D', 'E', 'F', 'G', 'H', 'I', 'K', 'L', 'M', 'N', 'P', 'Q', 'R', 'S', 'T', 'V', 'W', 'Y', 'X']\n",
    "\n",
    "list_test = []\n",
    "def split_data(data):\n",
    "    list_test = []\n",
    "    for i in range(data.shape[0]):\n",
    "        list_test.append(list(data[i,0]))\n",
    "        list_test.append([1])\n",
    "    return list_test\n",
    "    \n",
    "def non_split_data(data):\n",
    "    list_test = []\n",
    "    for i in range(len(data)):\n",
    "        list_test.append(list(data[i]))\n",
    "        list_test.append([0])\n",
    "    return list_test\n",
    "\n",
    "tt = split_data(seq_data)\n",
    "non_tt = non_split_data(non)"
   ]
  },
  {
   "cell_type": "code",
   "execution_count": 6,
   "metadata": {},
   "outputs": [
    {
     "name": "stdout",
     "output_type": "stream",
     "text": [
      "28000\n",
      "['M', 'R', 'T', 'L', 'W', 'M', 'A', 'L', 'C', 'A', 'L', 'S', 'R', 'L', 'W', 'P', 'G', 'A', 'Q', 'A', 'G', 'C', 'A', 'E', 'A', 'G', 'R', 'C', 'C', 'P', 'G', 'R', 'D', 'P', 'A', 'C', 'F', 'A', 'R', 'G', 'W', 'R', 'L', 'D', 'R', 'V', 'Y', 'G', 'T', 'C', 'F', 'C', 'D', 'Q', 'A', 'C', 'R', 'F', 'T', 'G', 'D', 'C', 'C', 'F', 'D', 'Y', 'D', 'R', 'A', 'C', 'P', 'A', 'R', 'P', 'C', 'F', 'V', 'G', 'E', 'W', 'S', 'P', 'W', 'S', 'G', 'C', 'A', 'D', 'Q', 'C', 'K', 'P', 'T', 'T', 'R', 'V', 'R', 'R', 'R', 'S', 'V', 'Q', 'Q', 'E', 'P', 'Q', 'N', 'G', 'G', 'A', 'P', 'C', 'P', 'P', 'L', 'E', 'E', 'R', 'A', 'G', 'C', 'L', 'E', 'Y', 'S', 'T', 'P', 'Q', 'G', 'Q', 'D', 'C', 'G', 'H', 'T', 'Y', 'V', 'P', 'A', 'F', 'I', 'T', 'T', 'S', 'A', 'F', 'N', 'K', 'E', 'R', 'T', 'R', 'Q', 'A', 'T', 'S', 'P', 'H', 'W', 'S', 'T', 'H', 'T', 'E', 'D', 'A', 'G', 'Y', 'C', 'M', 'E', 'F', 'K', 'T', 'E', 'S', 'L', 'T', 'P', 'H', 'C', 'A', 'L', 'E', 'N', 'W', 'P', 'L', 'T', 'R', 'W', 'M', 'Q', 'Y', 'L', 'R', 'E', 'G', 'Y', 'T', 'V', 'C', 'V', 'D', 'C', 'Q', 'P', 'P', 'A', 'M', 'N', 'S', 'V', 'S', 'L', 'R', 'C', 'S', 'G', 'D', 'G', 'L', 'D', 'S', 'D', 'G', 'N', 'Q', 'T', 'L', 'H', 'W', 'Q', 'A', 'I', 'G', 'N', 'P', 'R', 'C', 'Q', 'G', 'T', 'W', 'K', 'K', 'V', 'R', 'R', 'V', 'D', 'Q', 'C', 'S', 'C', 'P', 'A', 'V', 'H', 'S', 'F', 'I', 'F', 'I']\n"
     ]
    }
   ],
   "source": [
    "index_data = tt + non_tt\n",
    "print(len(index_data))\n",
    "print(index_data[27998])"
   ]
  },
  {
   "cell_type": "code",
   "execution_count": 7,
   "metadata": {},
   "outputs": [],
   "source": [
    "def one_hot_encoding(split_data):\n",
    "    seq_list = []\n",
    "    for t in range(0, len(split_data), 2):\n",
    "        data = np.zeros((1000, 21))\n",
    "        test = split_data[t]\n",
    "        for i in range(len(aa_list)):\n",
    "            if len(test) > 1000:\n",
    "                length_test = 1000\n",
    "            else:\n",
    "                length_test = len(test)\n",
    "            for j in range(length_test):\n",
    "                if aa_list[i] == test[j]:\n",
    "                    data[j,i] = 1\n",
    "        seq_list.append(data)\n",
    "        test = []\n",
    "        \n",
    "    return seq_list\n",
    "\n",
    "total_data = one_hot_encoding(index_data)"
   ]
  },
  {
   "cell_type": "code",
   "execution_count": 8,
   "metadata": {},
   "outputs": [
    {
     "name": "stdout",
     "output_type": "stream",
     "text": [
      "14000\n",
      "[[0. 0. 0. ... 0. 0. 0.]\n",
      " [0. 0. 0. ... 0. 0. 0.]\n",
      " [0. 0. 0. ... 0. 0. 0.]\n",
      " ...\n",
      " [0. 0. 0. ... 0. 0. 0.]\n",
      " [0. 0. 0. ... 0. 0. 0.]\n",
      " [0. 0. 0. ... 0. 0. 0.]]\n"
     ]
    }
   ],
   "source": [
    "print(len(total_data))\n",
    "print(total_data[2])"
   ]
  },
  {
   "cell_type": "code",
   "execution_count": 9,
   "metadata": {},
   "outputs": [],
   "source": [
    "class Share():\n",
    "    def __init__(self, f_height = 1):\n",
    "        super(Share, self).__init__()\n",
    "        self.f_height = f_height\n",
    "        conv1 = nn.Conv2d(1, 128, kernel_size = (self.f_height, 21), stride = 1) # 6@24*24\n",
    "        batch_conv = nn.BatchNorm2d(128)\n",
    "        pool1 = nn.MaxPool2d(kernel_size=(997,1)) # 6@12*a12\n",
    "        \n",
    "        self.conv_module = nn.Sequential(\n",
    "            conv1,\n",
    "            batch_conv,\n",
    "            nn.ReLU(),\n",
    "            pool1\n",
    "        )"
   ]
  },
  {
   "cell_type": "code",
   "execution_count": 10,
   "metadata": {},
   "outputs": [],
   "source": [
    "share = Share(4)\n",
    "share2= Share()"
   ]
  },
  {
   "cell_type": "code",
   "execution_count": 11,
   "metadata": {},
   "outputs": [
    {
     "data": {
      "text/plain": [
       "<__main__.Share at 0x2a6825bea88>"
      ]
     },
     "execution_count": 11,
     "metadata": {},
     "output_type": "execute_result"
    }
   ],
   "source": [
    "share"
   ]
  },
  {
   "cell_type": "code",
   "execution_count": 12,
   "metadata": {},
   "outputs": [],
   "source": [
    "class CNN1(nn.Module):\n",
    "    def __init__(self):\n",
    "\n",
    "        super(CNN1, self).__init__()\n",
    "        \n",
    "        share.conv_module # share객체 불러옴 conv, pool등 공유\n",
    "\n",
    "        fc1 = nn.Linear(128, 512)\n",
    "        fc2 = nn.Linear(512, 512)\n",
    "        fc3 = nn.Linear(512, 2)\n",
    "        # activation ReLU\n",
    "\n",
    "        batch_fc1 = nn.BatchNorm1d(512)\n",
    "        batch_fc2 = nn.BatchNorm1d(512)\n",
    "        batch_fc3 = nn.BatchNorm1d(2)\n",
    "        \n",
    "        self.fc_module = nn.Sequential(\n",
    "            fc1,\n",
    "            batch_fc1,\n",
    "            nn.ReLU(),\n",
    "            fc2,\n",
    "            batch_fc2,\n",
    "            nn.ReLU(),\n",
    "            fc3,\n",
    "            batch_fc3,\n",
    "            nn.Sigmoid()\n",
    "        )\n",
    "        \n",
    "    def forward(self, x):\n",
    "        out_list = []\n",
    "        out = share.conv_module(x) # @16*4*4\n",
    "        # make linear\n",
    "        dim = 1\n",
    "        for d in out.size()[1:]: #16, 4, 4\n",
    "            dim = dim * d\n",
    "        out = out.view(-1, dim)\n",
    "        out = self.fc_module(out)\n",
    "        return out"
   ]
  },
  {
   "cell_type": "code",
   "execution_count": 13,
   "metadata": {},
   "outputs": [],
   "source": [
    "class CNN2(nn.Module):\n",
    "    def __init__(self):\n",
    "        # 항상 torch.nn.Module을 상속받고 시작\n",
    "\n",
    "        super(CNN2, self).__init__()\n",
    "         \n",
    "        # share객체 불러옴 conv, pool등 공유\n",
    "        \n",
    "        fc1 = nn.Linear(128, 512)\n",
    "        fc2 = nn.Linear(512,512)\n",
    "        fc2 = nn.Linear(512,9999)\n",
    "        # activation ReLU\n",
    "\n",
    "        self.fc_module = nn.Sequential(\n",
    "            fc1,\n",
    "            nn.ReLU(),\n",
    "            fc2,\n",
    "            nn.Sigmoid()\n",
    "        )\n",
    "        \n",
    "    def forward(self, x):\n",
    "        out_list = []\n",
    "        out = self.conv_module(x) # @16*4*4\n",
    "        dim = 1\n",
    "        for d in out.size()[1:]: #16, 4, 4\n",
    "            dim = dim * d\n",
    "        out = out.view(-1, dim)\n",
    "        out = self.fc_module(out)\n",
    "        return out"
   ]
  },
  {
   "cell_type": "code",
   "execution_count": 14,
   "metadata": {},
   "outputs": [],
   "source": [
    "class CNN3(nn.Module):\n",
    "    def __init__(self):\n",
    "        # 항상 torch.nn.Module을 상속받고 시작\n",
    "\n",
    "        super(CNN3, self).__init__()\n",
    "\n",
    "        share # share객체 불러옴 conv, pool등 공유\n",
    "        \n",
    "        fc1 = nn.Linear(128, 512)\n",
    "        fc2 = nn.Linear(512,512)\n",
    "        fc2 = nn.Linear(512,9999)\n",
    "        # activation ReLU\n",
    "\n",
    "        self.fc_module = nn.Sequential(\n",
    "            fc1,\n",
    "            nn.ReLU(),\n",
    "            fc2,\n",
    "            nn.Sigmoid()\n",
    "        )\n",
    "        \n",
    "    def forward(self, x):\n",
    "        out_list = []\n",
    "        out = self.conv_module(x) # @16*4*4\n",
    "        # make linear\n",
    "        dim = 1\n",
    "        for d in out.size()[1:]: #16, 4, 4\n",
    "            dim = dim * d\n",
    "        out = out.view(-1, dim)\n",
    "        out = self.fc_module(out)\n",
    "        return out"
   ]
  },
  {
   "cell_type": "code",
   "execution_count": 15,
   "metadata": {},
   "outputs": [],
   "source": [
    "cnn1 = CNN1()\n",
    "cnn2 = CNN2()\n",
    "cnn3 = CNN3()"
   ]
  },
  {
   "cell_type": "code",
   "execution_count": 19,
   "metadata": {},
   "outputs": [],
   "source": [
    "criterion = nn.CrossEntropyLoss()\n",
    "learning_rate = 0.00001\n",
    "optimizer1 = optim.Adam(cnn1.parameters(), lr=learning_rate)\n",
    "optimizer2 = optim.Adam(cnn2.parameters(), lr=learning_rate)\n",
    "optimizer3 = optim.Adam(cnn3.parameters(), lr=learning_rate)"
   ]
  },
  {
   "cell_type": "code",
   "execution_count": null,
   "metadata": {},
   "outputs": [
    {
     "name": "stdout",
     "output_type": "stream",
     "text": [
      "Epoch 1 - Training loss: 0.3475369003649269\n",
      "Epoch 2 - Training loss: 0.487547026093517\n",
      "Epoch 3 - Training loss: 0.49301486153474877\n",
      "Epoch 4 - Training loss: 0.46366149501076764\n",
      "Epoch 5 - Training loss: 0.490747682799186\n"
     ]
    }
   ],
   "source": [
    "from torch.autograd import Variable\n",
    "criterion = nn.CrossEntropyLoss()\n",
    "# backpropagation method\n",
    "# hyper-parameters\n",
    "epochs = 9\n",
    "\n",
    "for e in range(epochs):\n",
    "    running_loss = 0\n",
    "    t = 0\n",
    "    for i in range(len(index_data)):\n",
    "        if i % 2 == 1:\n",
    "            \n",
    "            \n",
    "            cnn1.eval()\n",
    "            index_value = torch.LongTensor(index_data[i])\n",
    "            data = torch.from_numpy(total_data[t]).float()\n",
    "            data = data.view(1,1,1000,21)\n",
    "            optimizer1.zero_grad()\n",
    "            model_output = cnn1(data)\n",
    "            loss = criterion(model_output,index_value)\n",
    "            loss.backward()\n",
    "            # weight update\n",
    "            optimizer1.step()\n",
    "            t = t + 1 \n",
    "            running_loss += loss.item()\n",
    "        \n",
    "    else:\n",
    "        print(\"Epoch {} - Training loss: {}\".format(e+1, running_loss/len(total_data)))\n"
   ]
  },
  {
   "cell_type": "code",
   "execution_count": null,
   "metadata": {},
   "outputs": [],
   "source": [
    "print(model_output)\n",
    "\n",
    "print(index_value.shape)\n",
    "#print(index_data[1])"
   ]
  },
  {
   "cell_type": "code",
   "execution_count": null,
   "metadata": {},
   "outputs": [],
   "source": []
  }
 ],
 "metadata": {
  "kernelspec": {
   "display_name": "Python 3",
   "language": "python",
   "name": "python3"
  },
  "language_info": {
   "codemirror_mode": {
    "name": "ipython",
    "version": 3
   },
   "file_extension": ".py",
   "mimetype": "text/x-python",
   "name": "python",
   "nbconvert_exporter": "python",
   "pygments_lexer": "ipython3",
   "version": "3.7.4"
  }
 },
 "nbformat": 4,
 "nbformat_minor": 2
}
