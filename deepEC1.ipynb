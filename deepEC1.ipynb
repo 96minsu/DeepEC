{
 "cells": [
  {
   "cell_type": "code",
   "execution_count": 31,
   "metadata": {},
   "outputs": [],
   "source": [
    "import pandas as pd\n",
    "import numpy as np\n",
    "\n",
    "import torch \n",
    "import torch.nn as nn\n",
    "import torch.nn.functional as F\n",
    "import torch.optim as optim\n",
    "from torchvision import datasets, transforms"
   ]
  },
  {
   "cell_type": "code",
   "execution_count": 32,
   "metadata": {},
   "outputs": [],
   "source": [
    "class Share():\n",
    "    def convolutionLayer(self, f_height):\n",
    "        conv1 = nn.Conv2d(1, 128, kernel_size = (f_height, 21), stride = 1) # 6@24*24\n",
    "        batch_conv = nn.BatchNorm2d(128)\n",
    "        pool1 = nn.MaxPool2d(kernel_size=(997,1)) # 6@12*a12\n",
    "        \n",
    "        self.conv_module = nn.Sequential(\n",
    "            conv1,\n",
    "            batch_conv,\n",
    "            nn.ReLU(),\n",
    "            pool1\n",
    "        )"
   ]
  },
  {
   "cell_type": "code",
   "execution_count": 33,
   "metadata": {},
   "outputs": [],
   "source": [
    "share = Share()"
   ]
  },
  {
   "cell_type": "code",
   "execution_count": 34,
   "metadata": {},
   "outputs": [],
   "source": [
    "class CNN1(nn.Module):\n",
    "    def __init__(self):\n",
    "        # 항상 torch.nn.Module을 상속받고 시작\n",
    "\n",
    "        super(CNN1, self).__init__()\n",
    "        \n",
    "        share.convolutionLayer(4) # share객체 불러옴 conv, pool등 공유\n",
    "\n",
    "        fc1 = nn.Linear(128, 512)\n",
    "        fc2 = nn.Linear(512, 512)\n",
    "        fc3 = nn.Linear(512, 2)\n",
    "        # activation ReLU\n",
    "\n",
    "        batch_fc1 = nn.BatchNorm1d(512)\n",
    "        batch_fc2 = nn.BatchNorm1d(512)\n",
    "        batch_fc3 = nn.BatchNorm1d(2)\n",
    "        \n",
    "        self.fc_module = nn.Sequential(\n",
    "            fc1,\n",
    "            batch_fc1,\n",
    "            nn.ReLU(),\n",
    "            fc2,\n",
    "            batch_fc2,\n",
    "            nn.ReLU(),\n",
    "            fc3,\n",
    "            batch_fc3,\n",
    "            nn.Sigmoid()\n",
    "        )\n",
    "        \n",
    "    def forward(self, x):\n",
    "        out_list = []\n",
    "        out = self.conv_module(x) # @16*4*4\n",
    "        # make linear\n",
    "        dim = 1\n",
    "        for d in out.size()[1:]: #16, 4, 4\n",
    "            dim = dim * d\n",
    "        out = out.view(-1, dim)\n",
    "        out = self.fc_module(out)\n",
    "        return out"
   ]
  },
  {
   "cell_type": "code",
   "execution_count": 35,
   "metadata": {},
   "outputs": [],
   "source": [
    "class CNN2(nn.Module):\n",
    "    def __init__(self):\n",
    "        # 항상 torch.nn.Module을 상속받고 시작\n",
    "\n",
    "        super(CNN2, self).__init__()\n",
    "         \n",
    "        share.convolutionLayer(8) # share객체 불러옴 conv, pool등 공유\n",
    "        \n",
    "        fc1 = nn.Linear(128, 512)\n",
    "        fc2 = nn.Linear(512,512)\n",
    "        fc2 = nn.Linear(512,9999)\n",
    "        # activation ReLU\n",
    "\n",
    "        self.fc_module = nn.Sequential(\n",
    "            fc1,\n",
    "            nn.ReLU(),\n",
    "            fc2,\n",
    "            nn.Sigmoid()\n",
    "        )\n",
    "        \n",
    "    def forward(self, x):\n",
    "        out_list = []\n",
    "        out = self.conv_module(x) # @16*4*4\n",
    "        dim = 1\n",
    "        for d in out.size()[1:]: #16, 4, 4\n",
    "            dim = dim * d\n",
    "        out = out.view(-1, dim)\n",
    "        out = self.fc_module(out)\n",
    "        return out"
   ]
  },
  {
   "cell_type": "code",
   "execution_count": 36,
   "metadata": {},
   "outputs": [],
   "source": [
    "class CNN3(nn.Module):\n",
    "    def __init__(self):\n",
    "        # 항상 torch.nn.Module을 상속받고 시작\n",
    "\n",
    "        super(CNN3, self).__init__()\n",
    "\n",
    "        share.convolutionLayer(16) # share객체 불러옴 conv, pool등 공유\n",
    "        \n",
    "        fc1 = nn.Linear(128, 512)\n",
    "        fc2 = nn.Linear(512,512)\n",
    "        fc2 = nn.Linear(512,9999)\n",
    "        # activation ReLU\n",
    "\n",
    "        self.fc_module = nn.Sequential(\n",
    "            fc1,\n",
    "            nn.ReLU(),\n",
    "            fc2,\n",
    "            nn.Sigmoid()\n",
    "        )\n",
    "        \n",
    "    def forward(self, x):\n",
    "        out_list = []\n",
    "        out = self.c_module(x) # @16*4*4\n",
    "        # make linear\n",
    "        dim = 1\n",
    "        for d in out.size()[1:]: #16, 4, 4\n",
    "            dim = dim * d\n",
    "        out = out.view(-1, dim)\n",
    "        out = self.fc_module(out)\n",
    "        return out"
   ]
  },
  {
   "cell_type": "code",
   "execution_count": 37,
   "metadata": {},
   "outputs": [],
   "source": [
    "cnn1 = CNN1()\n",
    "cnn2 = CNN2()\n",
    "cnn3 = CNN3()"
   ]
  },
  {
   "cell_type": "code",
   "execution_count": 39,
   "metadata": {},
   "outputs": [],
   "source": [
    "criterion = nn.CrossEntropyLoss()\n",
    "learning_rate = 0.001\n",
    "optimizer = optim.Adam(cnn1.parameters(), lr=learning_rate)\n",
    "optimizer = optim.Adam(cnn2.parameters(), lr=learning_rate)\n",
    "optimizer = optim.Adam(cnn3.parameters(), lr=learning_rate)"
   ]
  },
  {
   "cell_type": "code",
   "execution_count": null,
   "metadata": {},
   "outputs": [],
   "source": []
  }
 ],
 "metadata": {
  "kernelspec": {
   "display_name": "Python 3",
   "language": "python",
   "name": "python3"
  },
  "language_info": {
   "codemirror_mode": {
    "name": "ipython",
    "version": 3
   },
   "file_extension": ".py",
   "mimetype": "text/x-python",
   "name": "python",
   "nbconvert_exporter": "python",
   "pygments_lexer": "ipython3",
   "version": "3.7.4"
  }
 },
 "nbformat": 4,
 "nbformat_minor": 2
}
